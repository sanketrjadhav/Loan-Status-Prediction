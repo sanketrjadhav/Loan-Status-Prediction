{
 "cells": [
  {
   "cell_type": "markdown",
   "metadata": {},
   "source": [
    "# Data load and Cleaning"
   ]
  },
  {
   "cell_type": "code",
   "execution_count": 1,
   "metadata": {},
   "outputs": [],
   "source": [
    "import numpy as np\n",
    "import pandas as pd\n",
    "import warnings\n",
    "warnings.filterwarnings(\"ignore\")"
   ]
  },
  {
   "cell_type": "code",
   "execution_count": 2,
   "metadata": {},
   "outputs": [],
   "source": [
    "train=pd.read_csv('train.csv')\n",
    "test=pd.read_csv('test.csv')"
   ]
  },
  {
   "cell_type": "code",
   "execution_count": 3,
   "metadata": {},
   "outputs": [],
   "source": [
    "data=train.append(test, ignore_index=True,sort=False)"
   ]
  },
  {
   "cell_type": "code",
   "execution_count": 4,
   "metadata": {},
   "outputs": [
    {
     "data": {
      "text/plain": [
       "Loan_ID                0\n",
       "Gender                24\n",
       "Married                3\n",
       "Dependents            25\n",
       "Education              0\n",
       "Self_Employed         55\n",
       "ApplicantIncome        0\n",
       "CoapplicantIncome      0\n",
       "LoanAmount            27\n",
       "Loan_Amount_Term      20\n",
       "Credit_History        79\n",
       "Property_Area          0\n",
       "Loan_Status          367\n",
       "dtype: int64"
      ]
     },
     "execution_count": 4,
     "metadata": {},
     "output_type": "execute_result"
    }
   ],
   "source": [
    "data.isna().sum()"
   ]
  },
  {
   "cell_type": "code",
   "execution_count": 5,
   "metadata": {},
   "outputs": [],
   "source": [
    "for column in [\"Gender\",\"Married\",\"Dependents\",\"Self_Employed\",\"Loan_Amount_Term\",\"Credit_History\"]:\n",
    "    data[column].fillna(data[column].mode()[0],inplace=True)\n",
    "    \n",
    "data['LoanAmount'].fillna(data['LoanAmount'].median(),inplace=True)\n",
    "\n",
    "data['Dependents'].replace('3+', 3,inplace=True)"
   ]
  },
  {
   "cell_type": "code",
   "execution_count": 6,
   "metadata": {},
   "outputs": [
    {
     "data": {
      "text/plain": [
       "Loan_ID                0\n",
       "Gender                 0\n",
       "Married                0\n",
       "Dependents             0\n",
       "Education              0\n",
       "Self_Employed          0\n",
       "ApplicantIncome        0\n",
       "CoapplicantIncome      0\n",
       "LoanAmount             0\n",
       "Loan_Amount_Term       0\n",
       "Credit_History         0\n",
       "Property_Area          0\n",
       "Loan_Status          367\n",
       "dtype: int64"
      ]
     },
     "execution_count": 6,
     "metadata": {},
     "output_type": "execute_result"
    }
   ],
   "source": [
    "data.isna().sum()"
   ]
  },
  {
   "cell_type": "code",
   "execution_count": 7,
   "metadata": {},
   "outputs": [],
   "source": [
    "data['Loan_Status'].replace('N', 0,inplace=True) \n",
    "data['Loan_Status'].replace('Y', 1,inplace=True)"
   ]
  },
  {
   "cell_type": "code",
   "execution_count": 8,
   "metadata": {},
   "outputs": [],
   "source": [
    "train=data[:614]\n",
    "test=data[614:]\n",
    "test_copy=data[614:]"
   ]
  },
  {
   "cell_type": "code",
   "execution_count": 9,
   "metadata": {},
   "outputs": [],
   "source": [
    "train.drop(['Loan_ID'], axis=1, inplace=True)\n",
    "test.drop(['Loan_ID'], axis=1, inplace=True)\n",
    "\n",
    "test.drop(['Loan_Status'], axis=1, inplace=True)"
   ]
  },
  {
   "cell_type": "code",
   "execution_count": 10,
   "metadata": {},
   "outputs": [],
   "source": [
    "train=pd.get_dummies(train) \n",
    "test=pd.get_dummies(test)"
   ]
  },
  {
   "cell_type": "code",
   "execution_count": 11,
   "metadata": {},
   "outputs": [],
   "source": [
    "x=train.drop('Loan_Status',axis=1) \n",
    "y=train.Loan_Status"
   ]
  },
  {
   "cell_type": "code",
   "execution_count": 12,
   "metadata": {},
   "outputs": [],
   "source": [
    "from sklearn.model_selection import train_test_split\n",
    "x_train,x_test,y_train,y_test=train_test_split(x,y,test_size=0.25,random_state=0)"
   ]
  },
  {
   "cell_type": "markdown",
   "metadata": {},
   "source": [
    "# Applying Models"
   ]
  },
  {
   "cell_type": "code",
   "execution_count": 17,
   "metadata": {},
   "outputs": [
    {
     "name": "stdout",
     "output_type": "stream",
     "text": [
      "[[10 33]\n",
      " [26 85]]\n",
      "knn train score:- 0.741304347826087\n",
      "knn test score:- 0.6168831168831169\n",
      "knn cross val score:- 65.0\n",
      "              precision    recall  f1-score   support\n",
      "\n",
      "         0.0       0.28      0.23      0.25        43\n",
      "         1.0       0.72      0.77      0.74       111\n",
      "\n",
      "    accuracy                           0.62       154\n",
      "   macro avg       0.50      0.50      0.50       154\n",
      "weighted avg       0.60      0.62      0.61       154\n",
      "\n"
     ]
    },
    {
     "data": {
      "text/plain": [
       "array([1., 1., 1., 1., 1., 1., 0., 1., 1., 0.])"
      ]
     },
     "execution_count": 17,
     "metadata": {},
     "output_type": "execute_result"
    }
   ],
   "source": [
    "from sklearn.neighbors import KNeighborsClassifier\n",
    "from sklearn.metrics import classification_report,accuracy_score,confusion_matrix\n",
    "from sklearn.model_selection import cross_val_score\n",
    "\n",
    "clf_knn=KNeighborsClassifier(n_neighbors=5)\n",
    "clf_knn.fit(x_train,y_train)\n",
    "knn_pred=clf_knn.predict(x_test)\n",
    "\n",
    "cfm_knn=confusion_matrix(y_test,knn_pred)\n",
    "print(cfm_knn)\n",
    "Accuracy_knn_train = clf_knn.score(x_train,y_train)\n",
    "print(\"knn train score:-\",Accuracy_knn_train)\n",
    "Accuracy_knn_test = accuracy_score(y_test,knn_pred)\n",
    "print(\"knn test score:-\",Accuracy_knn_test)\n",
    "cv_knn = cross_val_score(clf_knn, x_train, y_train, cv=5)\n",
    "print(\"knn cross val score:-\",round(cv_knn.mean(), 2) * 100)\n",
    "print(classification_report(y_test,knn_pred))\n",
    "knn_pred[0:10]"
   ]
  },
  {
   "cell_type": "code",
   "execution_count": 18,
   "metadata": {},
   "outputs": [
    {
     "name": "stdout",
     "output_type": "stream",
     "text": [
      "0.6478260869565218\n",
      "{'n_neighbors': 5}\n"
     ]
    }
   ],
   "source": [
    "from sklearn.model_selection import GridSearchCV\n",
    "\n",
    "parameters=[{'n_neighbors':[1,2,3,4,5,6]}]\n",
    "grid_search= GridSearchCV(estimator= clf_knn,param_grid=parameters,scoring='accuracy',cv=5,n_jobs= -1)\n",
    "grid_search=grid_search.fit(x_train,y_train)\n",
    "best_accuracy_knn=grid_search.best_score_\n",
    "best_parameters_knn=grid_search.best_params_\n",
    "print(best_accuracy_knn)\n",
    "print(best_parameters_knn)"
   ]
  },
  {
   "cell_type": "code",
   "execution_count": 19,
   "metadata": {},
   "outputs": [
    {
     "name": "stdout",
     "output_type": "stream",
     "text": [
      "[[ 24  19]\n",
      " [  9 102]]\n",
      "xgb train score:- 0.9978260869565218\n",
      "xgb test score:- 0.8181818181818182\n",
      "xgb cross val score:- 74.0\n",
      "              precision    recall  f1-score   support\n",
      "\n",
      "         0.0       0.73      0.56      0.63        43\n",
      "         1.0       0.84      0.92      0.88       111\n",
      "\n",
      "    accuracy                           0.82       154\n",
      "   macro avg       0.79      0.74      0.76       154\n",
      "weighted avg       0.81      0.82      0.81       154\n",
      "\n"
     ]
    },
    {
     "data": {
      "text/plain": [
       "array([0., 1., 1., 1., 1., 0., 1., 1., 0., 1.])"
      ]
     },
     "execution_count": 19,
     "metadata": {},
     "output_type": "execute_result"
    }
   ],
   "source": [
    "from xgboost import XGBClassifier\n",
    "from sklearn.metrics import classification_report,accuracy_score,confusion_matrix\n",
    "from sklearn.model_selection import cross_val_score\n",
    "\n",
    "clf_xgb=XGBClassifier(learning_rate=0.5,random_state=0)\n",
    "clf_xgb.fit(x_train,y_train)\n",
    "xgb_pred=clf_xgb.predict(x_test)\n",
    "\n",
    "cfm_xgb=confusion_matrix(y_test,xgb_pred)\n",
    "print(cfm_xgb)\n",
    "Accuracy_xgb_train = clf_xgb.score(x_train,y_train)\n",
    "print(\"xgb train score:-\",Accuracy_xgb_train)\n",
    "Accuracy_xgb_test = accuracy_score(y_test,xgb_pred)\n",
    "print(\"xgb test score:-\",Accuracy_xgb_test)\n",
    "cv_xgb = cross_val_score(clf_xgb, x_train, y_train, cv=5)\n",
    "print(\"xgb cross val score:-\",round(cv_xgb.mean(), 2) * 100)\n",
    "print(classification_report(y_test,xgb_pred))\n",
    "xgb_pred[0:10]"
   ]
  },
  {
   "cell_type": "code",
   "execution_count": 20,
   "metadata": {},
   "outputs": [
    {
     "name": "stdout",
     "output_type": "stream",
     "text": [
      "0.7413043478260869\n",
      "{'learning_rate': 0.5, 'random_state': 0}\n"
     ]
    }
   ],
   "source": [
    "from sklearn.model_selection import GridSearchCV\n",
    "\n",
    "parameters=[{'learning_rate' : [0.2,0.5,0.8,0.9],'random_state':[0,1,2,3]}]\n",
    "grid_search= GridSearchCV(estimator= clf_xgb,param_grid=parameters,scoring='accuracy',cv=5,n_jobs= -1)\n",
    "grid_search=grid_search.fit(x_train,y_train)\n",
    "best_accuracy_xgb=grid_search.best_score_\n",
    "best_parameters_xgb=grid_search.best_params_\n",
    "print(best_accuracy_xgb)\n",
    "print(best_parameters_xgb)"
   ]
  },
  {
   "cell_type": "code",
   "execution_count": 23,
   "metadata": {},
   "outputs": [
    {
     "name": "stdout",
     "output_type": "stream",
     "text": [
      "[[ 23  20]\n",
      " [ 11 100]]\n",
      "rf train score:- 0.9956521739130435\n",
      "rf test score:- 0.7987012987012987\n",
      "rf cross val score:- 78.0\n",
      "              precision    recall  f1-score   support\n",
      "\n",
      "         0.0       0.68      0.53      0.60        43\n",
      "         1.0       0.83      0.90      0.87       111\n",
      "\n",
      "    accuracy                           0.80       154\n",
      "   macro avg       0.75      0.72      0.73       154\n",
      "weighted avg       0.79      0.80      0.79       154\n",
      "\n"
     ]
    },
    {
     "data": {
      "text/plain": [
       "array([1., 1., 0., 1., 1., 0., 1., 0., 0., 1.])"
      ]
     },
     "execution_count": 23,
     "metadata": {},
     "output_type": "execute_result"
    }
   ],
   "source": [
    "from sklearn.ensemble import RandomForestClassifier\n",
    "from sklearn.metrics import classification_report,accuracy_score,confusion_matrix\n",
    "from sklearn.model_selection import cross_val_score\n",
    "\n",
    "clf_rf=RandomForestClassifier(criterion='entropy',random_state = 1,n_estimators = 20)\n",
    "clf_rf.fit(x_train,y_train)\n",
    "rf_pred=clf_rf.predict(x_test)\n",
    "\n",
    "cfm_rf=confusion_matrix(y_test,rf_pred)\n",
    "print(cfm_rf)\n",
    "Accuracy_rf_train = clf_rf.score(x_train,y_train)\n",
    "print(\"rf train score:-\",Accuracy_rf_train)\n",
    "Accuracy_rf_test = accuracy_score(y_test,rf_pred)\n",
    "print(\"rf test score:-\",Accuracy_rf_test)\n",
    "cv_rf = cross_val_score(clf_rf, x_train, y_train, cv=5)\n",
    "print(\"rf cross val score:-\",round(cv_rf.mean(), 2) * 100)\n",
    "print(classification_report(y_test,rf_pred))\n",
    "rf_pred[0:10]"
   ]
  },
  {
   "cell_type": "code",
   "execution_count": 22,
   "metadata": {},
   "outputs": [
    {
     "name": "stdout",
     "output_type": "stream",
     "text": [
      "0.7782608695652175\n",
      "{'criterion': 'entropy', 'n_estimators': 20, 'random_state': 1}\n"
     ]
    }
   ],
   "source": [
    "from sklearn.model_selection import GridSearchCV\n",
    "\n",
    "parameters=[{'n_estimators' : [10,20,30], 'criterion' : ['entropy'],'random_state':[0,1,2]},\n",
    "           {'n_estimators' : [10,20,30], 'criterion' : ['gini'],'random_state':[0,1,2]}]\n",
    "grid_search= GridSearchCV(estimator= clf_rf,param_grid=parameters,scoring='accuracy',cv=5,n_jobs= -1)\n",
    "grid_search=grid_search.fit(x_train,y_train)\n",
    "best_accuracy_rf=grid_search.best_score_\n",
    "best_parameters_rf=grid_search.best_params_\n",
    "print(best_accuracy_rf)\n",
    "print(best_parameters_rf)"
   ]
  },
  {
   "cell_type": "code",
   "execution_count": 13,
   "metadata": {},
   "outputs": [
    {
     "name": "stdout",
     "output_type": "stream",
     "text": [
      "[[ 20  23]\n",
      " [  6 105]]\n",
      "log train score:- 0.7869565217391304\n",
      "log test score:- 0.8116883116883117\n",
      "log cross val score:- 80.0\n",
      "              precision    recall  f1-score   support\n",
      "\n",
      "         0.0       0.77      0.47      0.58        43\n",
      "         1.0       0.82      0.95      0.88       111\n",
      "\n",
      "    accuracy                           0.81       154\n",
      "   macro avg       0.79      0.71      0.73       154\n",
      "weighted avg       0.81      0.81      0.80       154\n",
      "\n"
     ]
    },
    {
     "data": {
      "text/plain": [
       "array([1., 1., 1., 1., 1., 0., 1., 1., 0., 1.])"
      ]
     },
     "execution_count": 13,
     "metadata": {},
     "output_type": "execute_result"
    }
   ],
   "source": [
    "from sklearn.linear_model import LogisticRegression\n",
    "from sklearn.metrics import classification_report,accuracy_score,confusion_matrix\n",
    "from sklearn.model_selection import cross_val_score\n",
    "\n",
    "clf_log=LogisticRegression(random_state=0)\n",
    "clf_log.fit(x_train,y_train)\n",
    "log_pred=clf_log.predict(x_test)\n",
    "\n",
    "cfm_log=confusion_matrix(y_test,log_pred)\n",
    "print(cfm_log)\n",
    "Accuracy_log_train = clf_log.score(x_train,y_train)\n",
    "print(\"log train score:-\",Accuracy_log_train)\n",
    "Accuracy_log_test = accuracy_score(y_test,log_pred)\n",
    "print(\"log test score:-\",Accuracy_log_test)\n",
    "cv_log = cross_val_score(clf_log, x_train, y_train, cv=5)\n",
    "print(\"log cross val score:-\",round(cv_log.mean(), 2) * 100)\n",
    "print(classification_report(y_test,log_pred))\n",
    "log_pred[0:10]"
   ]
  },
  {
   "cell_type": "code",
   "execution_count": 25,
   "metadata": {},
   "outputs": [
    {
     "name": "stdout",
     "output_type": "stream",
     "text": [
      "0.8\n",
      "{'random_state': 0}\n"
     ]
    }
   ],
   "source": [
    "from sklearn.model_selection import GridSearchCV\n",
    "\n",
    "parameters=[{'random_state':[0,1,2,3,4,5,6,7,8,9,10]}]\n",
    "grid_search= GridSearchCV(estimator= clf_log,param_grid=parameters,scoring='accuracy',cv=5,n_jobs= -1)\n",
    "grid_search=grid_search.fit(x_train,y_train)\n",
    "best_accuracy_log=grid_search.best_score_\n",
    "best_parameters_log=grid_search.best_params_\n",
    "print(best_accuracy_log)\n",
    "print(best_parameters_log)"
   ]
  },
  {
   "cell_type": "code",
   "execution_count": 26,
   "metadata": {},
   "outputs": [
    {
     "name": "stdout",
     "output_type": "stream",
     "text": [
      "[[22 21]\n",
      " [60 51]]\n",
      "nb train score:- 0.49130434782608695\n",
      "nb test score:- 0.474025974025974\n",
      "nb cross val score:- 49.0\n",
      "              precision    recall  f1-score   support\n",
      "\n",
      "         0.0       0.27      0.51      0.35        43\n",
      "         1.0       0.71      0.46      0.56       111\n",
      "\n",
      "    accuracy                           0.47       154\n",
      "   macro avg       0.49      0.49      0.45       154\n",
      "weighted avg       0.59      0.47      0.50       154\n",
      "\n"
     ]
    },
    {
     "data": {
      "text/plain": [
       "array([1., 1., 0., 0., 0., 0., 1., 1., 1., 0.])"
      ]
     },
     "execution_count": 26,
     "metadata": {},
     "output_type": "execute_result"
    }
   ],
   "source": [
    "from sklearn.naive_bayes import MultinomialNB\n",
    "from sklearn.metrics import classification_report,accuracy_score,confusion_matrix\n",
    "from sklearn.model_selection import cross_val_score\n",
    "\n",
    "clf_nb=MultinomialNB()\n",
    "clf_nb.fit(x_train,y_train)\n",
    "nb_pred=clf_nb.predict(x_test)\n",
    "\n",
    "cfm_nb=confusion_matrix(y_test,nb_pred)\n",
    "print(cfm_nb)\n",
    "Accuracy_nb_train = clf_nb.score(x_train,y_train)\n",
    "print(\"nb train score:-\",Accuracy_nb_train)\n",
    "Accuracy_nb_test = accuracy_score(y_test,nb_pred)\n",
    "print(\"nb test score:-\",Accuracy_nb_test)\n",
    "cv_nb = cross_val_score(clf_nb, x_train, y_train, cv=5)\n",
    "print(\"nb cross val score:-\",round(cv_nb.mean(), 2) * 100)\n",
    "print(classification_report(y_test,nb_pred))\n",
    "nb_pred[0:10]"
   ]
  },
  {
   "cell_type": "code",
   "execution_count": 27,
   "metadata": {},
   "outputs": [
    {
     "name": "stdout",
     "output_type": "stream",
     "text": [
      "[[  1  42]\n",
      " [  0 111]]\n",
      "svc train score:- 1.0\n",
      "svc test score:- 0.7272727272727273\n",
      "svc cross val score:- 68.0\n",
      "              precision    recall  f1-score   support\n",
      "\n",
      "         0.0       1.00      0.02      0.05        43\n",
      "         1.0       0.73      1.00      0.84       111\n",
      "\n",
      "    accuracy                           0.73       154\n",
      "   macro avg       0.86      0.51      0.44       154\n",
      "weighted avg       0.80      0.73      0.62       154\n",
      "\n"
     ]
    },
    {
     "data": {
      "text/plain": [
       "array([1., 1., 1., 0., 1., 1., 1., 1., 1., 1.])"
      ]
     },
     "execution_count": 27,
     "metadata": {},
     "output_type": "execute_result"
    }
   ],
   "source": [
    "from sklearn.svm import SVC\n",
    "from sklearn.metrics import classification_report,accuracy_score,confusion_matrix\n",
    "from sklearn.model_selection import cross_val_score\n",
    "\n",
    "clf_svc=SVC(gamma=0.1)\n",
    "clf_svc.fit(x_train,y_train)\n",
    "svc_pred=clf_svc.predict(x_test)\n",
    "\n",
    "cfm_svc=confusion_matrix(y_test,svc_pred)\n",
    "print(cfm_svc)\n",
    "Accuracy_svc_train = clf_svc.score(x_train,y_train)\n",
    "print(\"svc train score:-\",Accuracy_svc_train)\n",
    "Accuracy_svc_test = accuracy_score(y_test,svc_pred)\n",
    "print(\"svc test score:-\",Accuracy_svc_test)\n",
    "cv_svc = cross_val_score(clf_svc, x_train, y_train, cv=5)\n",
    "print(\"svc cross val score:-\",round(cv_svc.mean(), 2) * 100)\n",
    "print(classification_report(y_test,svc_pred))\n",
    "svc_pred[0:10]"
   ]
  },
  {
   "cell_type": "code",
   "execution_count": 28,
   "metadata": {},
   "outputs": [
    {
     "name": "stdout",
     "output_type": "stream",
     "text": [
      "0.6760869565217391\n",
      "{'gamma': 0.1}\n"
     ]
    }
   ],
   "source": [
    "from sklearn.model_selection import GridSearchCV\n",
    "\n",
    "parameters=[{'gamma':[0.1,0.2,0.3]}]\n",
    "grid_search= GridSearchCV(estimator= clf_svc,param_grid=parameters,scoring='accuracy',cv=5,n_jobs= -1)\n",
    "grid_search=grid_search.fit(x_train,y_train)\n",
    "best_accuracy_svc=grid_search.best_score_\n",
    "best_parameters_svc=grid_search.best_params_\n",
    "print(best_accuracy_svc)\n",
    "print(best_parameters_svc)"
   ]
  },
  {
   "cell_type": "markdown",
   "metadata": {},
   "source": [
    "# We got good accuracy on Logistic Model.Therefore we are using it for the prediction."
   ]
  },
  {
   "cell_type": "code",
   "execution_count": 15,
   "metadata": {},
   "outputs": [],
   "source": [
    "pred_log=clf_log.predict(test)\n",
    "df = pd.DataFrame({'Id':test_copy.Loan_ID,'Loan Status':pred_log})\n",
    "df['Loan Status'].replace(0, 'N',inplace=True) \n",
    "df['Loan Status'].replace(1, 'Y',inplace=True)\n",
    "df.to_csv('prediction.csv', index = False)"
   ]
  },
  {
   "cell_type": "code",
   "execution_count": null,
   "metadata": {},
   "outputs": [],
   "source": []
  }
 ],
 "metadata": {
  "kernelspec": {
   "display_name": "Python 3",
   "language": "python",
   "name": "python3"
  },
  "language_info": {
   "codemirror_mode": {
    "name": "ipython",
    "version": 3
   },
   "file_extension": ".py",
   "mimetype": "text/x-python",
   "name": "python",
   "nbconvert_exporter": "python",
   "pygments_lexer": "ipython3",
   "version": "3.7.4"
  }
 },
 "nbformat": 4,
 "nbformat_minor": 4
}
